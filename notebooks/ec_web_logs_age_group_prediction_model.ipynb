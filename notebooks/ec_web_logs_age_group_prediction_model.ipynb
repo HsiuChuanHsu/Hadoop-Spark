{
 "cells": [
  {
   "cell_type": "code",
   "execution_count": null,
   "id": "fba878ea-c682-401a-8cbf-49ae90919cc0",
   "metadata": {},
   "outputs": [],
   "source": [
    "import pyspark\n",
    "from pyspark.sql import SparkSession\n",
    "from pyspark.sql.functions import input_file_name\n",
    "\n",
    "from pyspark.sql.functions import isnull\n",
    "from pyspark.ml.feature import VectorAssembler, StringIndexer\n",
    "from pyspark.ml.classification import DecisionTreeClassifier\n",
    "from pyspark.ml.evaluation import MulticlassClassificationEvaluator"
   ]
  },
  {
   "cell_type": "code",
   "execution_count": null,
   "id": "e6639226-57ed-4099-b9ae-ee8901d2b001",
   "metadata": {},
   "outputs": [],
   "source": [
    "spark = SparkSession.\\\n",
    "        builder.\\\n",
    "        appName(\"pyspark-notebook\").\\\n",
    "        getOrCreate()        \n",
    "        "
   ]
  },
  {
   "cell_type": "code",
   "execution_count": null,
   "id": "a2670ce7-b8b9-4590-911c-6d72dc988bfa",
   "metadata": {},
   "outputs": [],
   "source": [
    "# Prepare data\n",
    "logs = spark.read.parquet(\"hdfs://namenode:9000//user/data/spark_ml_101/ec_web_logs_analysis/data/\")"
   ]
  },
  {
   "cell_type": "code",
   "execution_count": null,
   "id": "5dcd69de-e36d-4709-b936-2baa7c8f75c0",
   "metadata": {},
   "outputs": [],
   "source": []
  },
  {
   "cell_type": "code",
   "execution_count": null,
   "id": "84205f2b-4452-463c-a912-2a50a96d7376",
   "metadata": {},
   "outputs": [],
   "source": [
    "# Preprocessing and feature engineering\n",
    "feature_prep = logs.select(\"product_category_id\", \"device_type\", \"connect_type\", \"age_group\") \\\n",
    "                   .where(~isnull(\"age_group\"))"
   ]
  },
  {
   "cell_type": "code",
   "execution_count": null,
   "id": "a352cbeb-9e55-49d9-9fdb-e6dc82d60058",
   "metadata": {},
   "outputs": [],
   "source": [
    "feature_prep.show()"
   ]
  },
  {
   "cell_type": "code",
   "execution_count": null,
   "id": "a5006226-ef70-414a-8335-8898af8db3ae",
   "metadata": {},
   "outputs": [],
   "source": [
    "feature_prep = StringIndexer(inputCol=\"age_group\", outputCol=\"age_group_indexed\") \\\n",
    "              .fit(feature_prep) \\\n",
    "              .transform(feature_prep)"
   ]
  },
  {
   "cell_type": "code",
   "execution_count": null,
   "id": "6cb8430e-371b-400d-b622-a552fd22bf7d",
   "metadata": {},
   "outputs": [],
   "source": [
    "final_data = VectorAssembler(inputCols=[\"product_category_id\", \"device_type\", \"connect_type\"],\n",
    "                             outputCol=\"features\").transform(feature_prep)"
   ]
  },
  {
   "cell_type": "code",
   "execution_count": null,
   "id": "db736372-7f80-4b60-9314-befbd6b38b58",
   "metadata": {},
   "outputs": [],
   "source": [
    "final_data.show()"
   ]
  },
  {
   "cell_type": "code",
   "execution_count": null,
   "id": "47ec46d1-3b52-4b31-9131-1c2a34ad9829",
   "metadata": {},
   "outputs": [],
   "source": []
  },
  {
   "cell_type": "code",
   "execution_count": null,
   "id": "74778494-38f7-427c-9428-97abef0894b4",
   "metadata": {},
   "outputs": [],
   "source": [
    "# Split data into train and test sets\n",
    "train_data, test_data = final_data.randomSplit([0.7, 0.3])"
   ]
  },
  {
   "cell_type": "code",
   "execution_count": null,
   "id": "1d810a9f-2cc8-4217-a62a-acbe9efba515",
   "metadata": {},
   "outputs": [],
   "source": [
    "# Model training\n",
    "classifier = DecisionTreeClassifier(featuresCol=\"features\", labelCol=\"age_group_indexed\", maxDepth=10)\n",
    "model = classifier.fit(train_data)"
   ]
  },
  {
   "cell_type": "code",
   "execution_count": null,
   "id": "b790b605-52fc-4721-a558-1753de471ecc",
   "metadata": {},
   "outputs": [],
   "source": [
    "# Save the model\n",
    "model.save(\"hdfs://namenode:9000//user/data/spark_ml_101/ec_web_logs_analysis/models/model_age_group_prediction/\")"
   ]
  },
  {
   "cell_type": "code",
   "execution_count": null,
   "id": "0d7264a1-2e2d-4cc5-b5e9-84f963d4b0b7",
   "metadata": {},
   "outputs": [],
   "source": []
  },
  {
   "cell_type": "code",
   "execution_count": null,
   "id": "f532e9b2-fd3a-4c70-aa21-92f888f0b386",
   "metadata": {},
   "outputs": [],
   "source": [
    "# Transform the test data using the model to get predictions\n",
    "predicted_test_data = model.transform(test_data)"
   ]
  },
  {
   "cell_type": "code",
   "execution_count": null,
   "id": "be2ef67a-853f-4d9a-b97e-c0d276869d98",
   "metadata": {},
   "outputs": [],
   "source": [
    "# Evaluate the model performance\n",
    "evaluator_accuracy = MulticlassClassificationEvaluator(labelCol='age_group_indexed',\n",
    "                                                       predictionCol='prediction',\n",
    "                                                       metricName='accuracy')\n",
    "print(\"Accuracy: {}\", evaluator_accuracy.evaluate(predicted_test_data))"
   ]
  },
  {
   "cell_type": "code",
   "execution_count": null,
   "id": "b0a362b0-7a7f-4a35-8448-b1beadee8713",
   "metadata": {},
   "outputs": [],
   "source": [
    "spark.stop()"
   ]
  },
  {
   "cell_type": "code",
   "execution_count": null,
   "id": "37c2ca99-be0a-4a38-9d06-eaabdf19c50a",
   "metadata": {},
   "outputs": [],
   "source": []
  }
 ],
 "metadata": {
  "kernelspec": {
   "display_name": "Python 3 (ipykernel)",
   "language": "python",
   "name": "python3"
  },
  "language_info": {
   "codemirror_mode": {
    "name": "ipython",
    "version": 3
   },
   "file_extension": ".py",
   "mimetype": "text/x-python",
   "name": "python",
   "nbconvert_exporter": "python",
   "pygments_lexer": "ipython3",
   "version": "3.12.4"
  }
 },
 "nbformat": 4,
 "nbformat_minor": 5
}

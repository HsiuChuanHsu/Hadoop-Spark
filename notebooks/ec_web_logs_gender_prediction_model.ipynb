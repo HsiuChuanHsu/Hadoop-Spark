{
 "cells": [
  {
   "cell_type": "code",
   "execution_count": 16,
   "id": "bf45fda8-ce1d-4e0c-a2c1-0af317744eaf",
   "metadata": {},
   "outputs": [],
   "source": [
    "import pyspark\n",
    "from pyspark.sql import SparkSession\n",
    "from pyspark.sql.functions import input_file_name\n",
    "\n",
    "from pyspark.sql.functions import isnull\n",
    "from pyspark.ml.feature import VectorAssembler, StringIndexer\n",
    "from pyspark.ml.classification import DecisionTreeClassifier\n",
    "from pyspark.ml.evaluation import MulticlassClassificationEvaluator"
   ]
  },
  {
   "cell_type": "code",
   "execution_count": null,
   "id": "355868c0-b0db-4b03-88e9-8e90fc75a9b4",
   "metadata": {},
   "outputs": [],
   "source": [
    "spark = SparkSession.\\\n",
    "        builder.\\\n",
    "        appName(\"pyspark-notebook\").\\\n",
    "        getOrCreate()        "
   ]
  },
  {
   "cell_type": "code",
   "execution_count": 3,
   "id": "c9c74264-23a2-4277-8d66-fd45ccf1d55e",
   "metadata": {},
   "outputs": [],
   "source": [
    "# Prepare data\n",
    "logs = spark.read.parquet(\"hdfs://namenode:9000//user/data/spark_ml_101/ec_web_logs_analysis/data/\")"
   ]
  },
  {
   "cell_type": "code",
   "execution_count": 4,
   "id": "71c7d6ee-c672-423a-9670-21771b1b895c",
   "metadata": {},
   "outputs": [],
   "source": [
    "# Preprocessing and feature engineering\n",
    "feature_prep = logs.select(\"product_category_id\", \"device_type\", \"connect_type\", \"gender\") \\\n",
    "                   .where(~isnull(\"gender\"))"
   ]
  },
  {
   "cell_type": "code",
   "execution_count": 5,
   "id": "49a3a99d-03ca-45c6-8e11-004d6aa4b115",
   "metadata": {},
   "outputs": [],
   "source": [
    "final_data = VectorAssembler(inputCols=[\"product_category_id\", \"device_type\", \"connect_type\"],\n",
    "                             outputCol=\"features\").transform(feature_prep)"
   ]
  },
  {
   "cell_type": "code",
   "execution_count": 7,
   "id": "0432ce4c-7e12-420f-a15e-41ddf6a722ed",
   "metadata": {},
   "outputs": [
    {
     "name": "stdout",
     "output_type": "stream",
     "text": [
      "+-------------------+-----------+------------+------+---------------+\n",
      "|product_category_id|device_type|connect_type|gender|       features|\n",
      "+-------------------+-----------+------------+------+---------------+\n",
      "|                114|          1|           2|     1|[114.0,1.0,2.0]|\n",
      "|                  2|          2|           2|     0|  [2.0,2.0,2.0]|\n",
      "|                 59|          2|           1|     0| [59.0,2.0,1.0]|\n",
      "|                 49|          2|           1|     0| [49.0,2.0,1.0]|\n",
      "|                144|          1|           2|     1|[144.0,1.0,2.0]|\n",
      "|                109|          1|           2|     1|[109.0,1.0,2.0]|\n",
      "|                 30|          1|           2|     0| [30.0,1.0,2.0]|\n",
      "|                129|          1|           1|     1|[129.0,1.0,1.0]|\n",
      "|                 55|          1|           2|     0| [55.0,1.0,2.0]|\n",
      "|                 60|          1|           1|     0| [60.0,1.0,1.0]|\n",
      "|                 14|          2|           2|     0| [14.0,2.0,2.0]|\n",
      "|                155|          1|           1|     1|[155.0,1.0,1.0]|\n",
      "|                111|          2|           1|     1|[111.0,2.0,1.0]|\n",
      "|                  5|          2|           2|     0|  [5.0,2.0,2.0]|\n",
      "|                 39|          2|           2|     0| [39.0,2.0,2.0]|\n",
      "|                 17|          2|           1|     0| [17.0,2.0,1.0]|\n",
      "|                  3|          1|           1|     0|  [3.0,1.0,1.0]|\n",
      "|                 10|          1|           2|     0| [10.0,1.0,2.0]|\n",
      "|                 17|          2|           1|     0| [17.0,2.0,1.0]|\n",
      "|                  8|          1|           2|     0|  [8.0,1.0,2.0]|\n",
      "+-------------------+-----------+------------+------+---------------+\n",
      "only showing top 20 rows\n",
      "\n"
     ]
    }
   ],
   "source": [
    "final_data.show()"
   ]
  },
  {
   "cell_type": "code",
   "execution_count": null,
   "id": "dfcf68ef-a39f-4a73-8f5b-f3392a3f4e3f",
   "metadata": {},
   "outputs": [],
   "source": []
  },
  {
   "cell_type": "code",
   "execution_count": 6,
   "id": "51dd01f1-573c-4c1e-899f-363b61182125",
   "metadata": {},
   "outputs": [],
   "source": [
    "# Split data into train and test sets\n",
    "train_data, test_data = final_data.randomSplit([0.7, 0.3])"
   ]
  },
  {
   "cell_type": "code",
   "execution_count": 8,
   "id": "3ff4777d-0fe5-427b-bb04-e60d7f41e6b7",
   "metadata": {},
   "outputs": [],
   "source": [
    "# Model training\n",
    "classifier = DecisionTreeClassifier(featuresCol=\"features\", labelCol=\"gender\", maxDepth=10)\n",
    "model = classifier.fit(train_data)"
   ]
  },
  {
   "cell_type": "code",
   "execution_count": 9,
   "id": "ea854f77-a299-4631-8991-54f3b71a4132",
   "metadata": {},
   "outputs": [],
   "source": [
    "model.save(\"hdfs://namenode:9000//user/data/spark_ml_101/ec_web_logs_analysis/models/model_gender_prediction/\")"
   ]
  },
  {
   "cell_type": "code",
   "execution_count": null,
   "id": "c636f289-9467-477c-b2af-72432e2e683e",
   "metadata": {},
   "outputs": [],
   "source": []
  },
  {
   "cell_type": "code",
   "execution_count": 10,
   "id": "9b8224fb-2ca8-4cba-aeee-00a57e528c19",
   "metadata": {},
   "outputs": [],
   "source": [
    "# Transform the test data using the model to get predictions\n",
    "predicted_test_data = model.transform(test_data)"
   ]
  },
  {
   "cell_type": "code",
   "execution_count": 11,
   "id": "aaeb38f1-65e2-489d-8d87-897353d22757",
   "metadata": {},
   "outputs": [
    {
     "name": "stdout",
     "output_type": "stream",
     "text": [
      "Accuracy: {} 0.9301915174879365\n"
     ]
    }
   ],
   "source": [
    "# Evaluate the model performance\n",
    "evaluator_accuracy = MulticlassClassificationEvaluator(labelCol='gender',\n",
    "                                                       predictionCol='prediction',\n",
    "                                                       metricName='accuracy')\n",
    "print(\"Accuracy: {}\", evaluator_accuracy.evaluate(predicted_test_data))"
   ]
  },
  {
   "cell_type": "code",
   "execution_count": 12,
   "id": "9ee5c5cf-bd5f-4d8b-b608-e437f5f759a5",
   "metadata": {},
   "outputs": [],
   "source": [
    "confusion_matrix_info = predicted_test_data.select(\"gender\", \"prediction\")\\\n",
    "                                           .groupBy(\"gender\", \"prediction\")\\\n",
    "                                           .count()"
   ]
  },
  {
   "cell_type": "code",
   "execution_count": 13,
   "id": "f11d0b89-8ba8-4176-9b82-036fba5f8ca8",
   "metadata": {},
   "outputs": [
    {
     "name": "stdout",
     "output_type": "stream",
     "text": [
      "+------+----------+-----+\n",
      "|gender|prediction|count|\n",
      "+------+----------+-----+\n",
      "|     0|       0.0|76696|\n",
      "|     0|       1.0| 2089|\n",
      "|     1|       0.0| 8631|\n",
      "|     1|       1.0|66147|\n",
      "+------+----------+-----+\n",
      "\n"
     ]
    }
   ],
   "source": [
    "confusion_matrix_info.orderBy(\"gender\", \"prediction\").show()"
   ]
  },
  {
   "cell_type": "code",
   "execution_count": 14,
   "id": "b599e4b4-0446-4bec-ade5-bac6a0fc1f89",
   "metadata": {},
   "outputs": [
    {
     "name": "stdout",
     "output_type": "stream",
     "text": [
      "+------+----------+-----+\n",
      "|gender|prediction|count|\n",
      "+------+----------+-----+\n",
      "|     0|       0.0|76696|\n",
      "|     1|       0.0| 8631|\n",
      "|     0|       1.0| 2089|\n",
      "|     1|       1.0|66147|\n",
      "+------+----------+-----+\n",
      "\n"
     ]
    }
   ],
   "source": [
    "confusion_matrix_info.orderBy(\"prediction\", \"gender\").show()"
   ]
  },
  {
   "cell_type": "code",
   "execution_count": null,
   "id": "f323bdac-a4ba-422b-a3d1-3cdbe211cf00",
   "metadata": {},
   "outputs": [],
   "source": []
  },
  {
   "cell_type": "code",
   "execution_count": 15,
   "id": "632826c1-0b97-45f8-9942-2d19f958b35d",
   "metadata": {},
   "outputs": [],
   "source": [
    "spark.stop()"
   ]
  },
  {
   "cell_type": "code",
   "execution_count": null,
   "id": "81ad26cb-a557-45a1-84c5-a2d8b5e45e46",
   "metadata": {},
   "outputs": [],
   "source": []
  }
 ],
 "metadata": {
  "kernelspec": {
   "display_name": "Python 3 (ipykernel)",
   "language": "python",
   "name": "python3"
  },
  "language_info": {
   "codemirror_mode": {
    "name": "ipython",
    "version": 3
   },
   "file_extension": ".py",
   "mimetype": "text/x-python",
   "name": "python",
   "nbconvert_exporter": "python",
   "pygments_lexer": "ipython3",
   "version": "3.11.6"
  }
 },
 "nbformat": 4,
 "nbformat_minor": 5
}

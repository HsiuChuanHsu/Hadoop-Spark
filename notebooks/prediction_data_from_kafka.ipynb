{
 "cells": [
  {
   "cell_type": "code",
   "execution_count": null,
   "metadata": {},
   "outputs": [],
   "source": [
    "from pyspark.sql import SparkSession\n",
    "from pyspark.sql.functions import *\n",
    "from pyspark.sql.types import *\n",
    "from pyspark.ml.feature import VectorAssembler\n",
    "from pyspark.ml.classification import DecisionTreeClassificationModel\n"
   ]
  },
  {
   "cell_type": "code",
   "execution_count": null,
   "metadata": {},
   "outputs": [],
   "source": [
    "spark = SparkSession.\\\n",
    "        builder.\\\n",
    "        appName(\"pyspark-notebook\").\\\n",
    "        config(\"spark.jars.packages\", \"org.apache.spark:spark-sql-kafka-0-10_2.12:3.0.2\").\\\n",
    "        getOrCreate()        \n",
    "        "
   ]
  },
  {
   "cell_type": "code",
   "execution_count": null,
   "metadata": {},
   "outputs": [],
   "source": [
    "gender_model = DecisionTreeClassificationModel.load(\n",
    "        \"hdfs://namenode:9000//user/data/spark_ml_101/ec_web_logs_analysis/models/model_age_group_prediction/\")"
   ]
  },
  {
   "cell_type": "code",
   "execution_count": null,
   "metadata": {},
   "outputs": [],
   "source": [
    "# connect to Kafka stream\n",
    "logs_stream = spark.readStream \\\n",
    "                .format(\"kafka\") \\\n",
    "                .option(\"kafka.bootstrap.servers\", \"broker:29092\") \\\n",
    "                .option(\"subscribe\", \"ec_web_logs_stream\") \\\n",
    "                .load()\n",
    "\n",
    "# # schema\n",
    "logs_stream = logs_stream.select(logs_stream[\"value\"].cast(\"string\")) \\\n",
    "                     .selectExpr(\"split(value,',')[0] as device_id\",\n",
    "                                 \"split(value,',')[1] as timestamp\",\n",
    "                                 \"cast(split(value,',')[2] as int) as product_category_id\",\n",
    "                                 \"split(value,',')[3] as ip\",\n",
    "                                 \"cast(split(value,',')[6] as int) device_type\",\n",
    "                                 \"cast(split(value,',')[7] as int) connection_type\")\n",
    "\n",
    "# Prepare features and preprocessing\n",
    "data_prep = logs_stream.select(\"device_id\", \"timestamp\", \"product_category_id\", \"device_type\", \"connection_type\")\n",
    "\n",
    "data_prep = VectorAssembler(inputCols=[\"product_category_id\", \"device_type\", \"connection_type\"],\n",
    "                            outputCol=\"features\").transform(data_prep)\n",
    "\n",
    "inferred_gender_added = gender_model.transform(data_prep)\\\n",
    "        .select(col(\"device_id\"), col(\"timestamp\"), col(\"prediction\").alias(\"inferred_gender\"), col(\"features\"))"
   ]
  },
  {
   "cell_type": "code",
   "execution_count": null,
   "metadata": {},
   "outputs": [],
   "source": [
    "result = inferred_gender_added.selectExpr(\"cast(timestamp as string) as key\",  \n",
    "                                             \"cast(concat(device_id, ',', timestamp, ',', inferred_gender, ',', inferred_gender) as string) as value\")\n",
    "\n"
   ]
  },
  {
   "cell_type": "code",
   "execution_count": null,
   "metadata": {},
   "outputs": [],
   "source": [
    " query = inferred_gender_added.select(\"device_id\", \"timestamp\", \"inferred_gender\")\\\n",
    "                .writeStream \\\n",
    "                .format(\"csv\") \\\n",
    "                .option(\"format\", \"append\") \\\n",
    "                .option(\"path\", \"hdfs://namenode:9000//user/data/spark_ml_101/ec_web_logs_analysis/streaming\") \\\n",
    "                .option(\"checkpointLocation\", \"hdfs://namenode:9000//user/data/checkpoint\") \\\n",
    "                .outputMode(\"append\") \\\n",
    "                .start()\\\n",
    "                .awaitTermination()\n",
    "\n",
    "\n",
    "# query = inferred_gender_added.writeStream\\\n",
    "#                     .outputMode(\"append\")\\\n",
    "#                     .format(\"console\") \\\n",
    "#                     .option(\"truncate\",\"false\") \\\n",
    "#                     .start()\\\n",
    "#                     .awaitTermination()"
   ]
  },
  {
   "cell_type": "code",
   "execution_count": null,
   "metadata": {},
   "outputs": [],
   "source": []
  }
 ],
 "metadata": {
  "kernelspec": {
   "display_name": "Python 3 (ipykernel)",
   "language": "python",
   "name": "python3"
  },
  "language_info": {
   "codemirror_mode": {
    "name": "ipython",
    "version": 3
   },
   "file_extension": ".py",
   "mimetype": "text/x-python",
   "name": "python",
   "nbconvert_exporter": "python",
   "pygments_lexer": "ipython3",
   "version": "3.11.6"
  }
 },
 "nbformat": 4,
 "nbformat_minor": 4
}

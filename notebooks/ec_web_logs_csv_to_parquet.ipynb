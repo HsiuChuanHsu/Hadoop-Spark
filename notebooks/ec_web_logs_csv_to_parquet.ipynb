{
 "cells": [
  {
   "cell_type": "code",
   "execution_count": 1,
   "id": "b2077819-078f-4b63-a29c-52976c691f9c",
   "metadata": {},
   "outputs": [],
   "source": [
    "import pyspark\n",
    "from pyspark.sql import SparkSession\n",
    "from pyspark.sql.functions import input_file_name\n",
    "\n",
    "from pyspark.sql.functions import isnull\n",
    "from pyspark.ml.feature import VectorAssembler, StringIndexer\n",
    "from pyspark.ml.classification import DecisionTreeClassifier\n",
    "from pyspark.ml.evaluation import MulticlassClassificationEvaluator"
   ]
  },
  {
   "cell_type": "code",
   "execution_count": 2,
   "id": "eb00394b-4283-4c7b-873b-02f87025e251",
   "metadata": {},
   "outputs": [],
   "source": [
    "spark = SparkSession.\\\n",
    "        builder.\\\n",
    "        appName(\"pyspark-notebook\").\\\n",
    "        getOrCreate()        \n",
    "        "
   ]
  },
  {
   "cell_type": "code",
   "execution_count": 4,
   "id": "c374c8dd-43d1-4e17-afec-19e2bd325f23",
   "metadata": {},
   "outputs": [
    {
     "name": "stdout",
     "output_type": "stream",
     "text": [
      "+--------------------+-------------------+-------------------+--------------------+---------+----------+-----------+------------+---------+------+--------------------+\n",
      "|           device_id|          timestamp|product_category_id|                  ip|      lat|       lon|device_type|connect_type|age_group|gender|           member_id|\n",
      "+--------------------+-------------------+-------------------+--------------------+---------+----------+-----------+------------+---------+------+--------------------+\n",
      "|2eecf6cc-b2d8-f13...|2019-05-01 00:00:04|                132|     114.137.185.183|25.027023| 121.41819|          1|           2|     NULL|  NULL|c55941d974fa7f9cd...|\n",
      "|7f9b4249-b0df-39d...|2019-05-01 00:00:07|                 38|        115.82.34.79| 25.02705|121.557396|          2|           2|     NULL|  NULL|d578b2f0aa6e00f63...|\n",
      "|db396d28-b748-56a...|2019-05-01 00:00:12|                 17|      49.216.141.189|24.090103| 120.73134|          2|           2|     NULL|  NULL|5f27b787212e16900...|\n",
      "|0cabdfb3-b98e-9fb...|2019-05-01 00:00:15|                 60|         27.52.70.89|24.918932| 121.19233|          2|           1|    36-50|     0|adb6b4fc4af10ff68...|\n",
      "|1e232f10-8fa5-d17...|2019-05-01 00:00:19|                156|     223.136.185.112| 25.06417|121.426994|          1|           2|  over 50|     1|2af73f9c2f39b2ad0...|\n",
      "|0a95869d-aa7c-079...|2019-05-01 00:00:19|                104|         27.246.4.74|24.696573| 121.80277|          1|           1|     NULL|  NULL|ca6486a6f6d2b9b49...|\n",
      "|9804ffa2-b4b3-73c...|2019-05-01 00:00:20|                 53|2001:b400:e269:eb...|25.129053|  121.7445|          2|           2|    36-50|     0|88822a61c8cf27d95...|\n",
      "|b2d81105-baac-aed...|2019-05-01 00:00:20|                  6|      27.246.170.248| 22.95496|120.301216|          1|           2|     NULL|  NULL|97e6cb863f23b913f...|\n",
      "|8048c12c-b7cc-84d...|2019-05-01 00:00:23|                106|     101.137.154.116| 24.93326| 121.29555|          1|           2|     NULL|  NULL|76fc22be6cc209088...|\n",
      "|0b146116-8876-33b...|2019-05-01 00:00:23|                 11|     223.136.239.129|25.008995|121.479866|          2|           2|     NULL|  NULL|b0ddf7e8c19f6f175...|\n",
      "|5278c4ca-be80-21f...|2019-05-01 00:00:24|                113|      59.115.112.164| 25.11713|121.527435|          1|           2|    21-35|     1|177e57bfd28215195...|\n",
      "|985f29ee-ba58-6b2...|2019-05-01 00:00:27|                104|       39.10.197.228| 24.98072| 121.54427|          2|           2|    21-35|     1|5e94847dacd305725...|\n",
      "|b01fa9ff-b804-d91...|2019-05-01 00:00:38|                  3|2402:7500:539:379...|  24.9945|  121.5235|          2|           1|     NULL|  NULL|54b626b3b6a741931...|\n",
      "|bea679fd-af94-5d9...|2019-05-01 00:00:41|                  6|     101.136.237.118|25.066343|121.530396|          2|           2| under 20|     0|fad7773c3ce00c229...|\n",
      "|de7aac5a-babf-253...|2019-05-01 00:00:45|                 39|        110.28.65.94| 22.61878| 120.28969|          2|           2|     NULL|  NULL|2a907c67a50078613...|\n",
      "|e1cebe0d-a94e-a95...|2019-05-01 00:00:48|                 41|2401:e180:8821:be...|  24.0721| 120.43806|          2|           1|     NULL|  NULL|4e6e4c58df5bbd12b...|\n",
      "|d3f78cc5-a8fb-117...|2019-05-01 00:00:49|                 12|         39.9.39.103|  24.1759| 120.64938|          2|           2|     NULL|  NULL|2e86f48e8a67732c9...|\n",
      "|2ad6a032-93c4-082...|2019-05-01 00:00:50|                147|2001:b400:e27e:54...|24.994648| 121.51234|          1|           1|     NULL|  NULL|7b7319e6a63ba7bbf...|\n",
      "|417d6ce7-84bb-5bf...|2019-05-01 00:00:52|                123|2001:b400:e78f:73...|22.650072| 120.33544|          2|           1|    21-35|     1|a608624685fb00a6f...|\n",
      "|22866a34-ac33-933...|2019-05-01 00:00:53|                 27|       101.136.73.38|22.558563|  120.5574|          1|           1| under 20|     0|fc4b5e5ba21d9d752...|\n",
      "+--------------------+-------------------+-------------------+--------------------+---------+----------+-----------+------------+---------+------+--------------------+\n",
      "only showing top 20 rows\n",
      "\n"
     ]
    }
   ],
   "source": [
    "# Prepare data\n",
    "#  \"hdfs://namenode:9000//user/data/spark_ml_101/ec_web_logs_analysis/raw\"\n",
    "\n",
    "raw = spark.read.csv(\"hdfs://namenode:9000//user/data/spark_ml_101/ec_web_logs_analysis/raw\"\n",
    "                    , header=True\n",
    "                    , inferSchema=True)\n",
    "                    # schema=\"device_id string,timestamp timestamp,product_category_id int,ip string,lat float, lon float,\\\n",
    "                    #       device_type int,connect_type int,age_group string,gender int,member_id string\")\n",
    "raw.show()\n"
   ]
  },
  {
   "cell_type": "code",
   "execution_count": 5,
   "id": "0307a0f9-fa24-444f-ae93-ea4a5bef12d8",
   "metadata": {},
   "outputs": [],
   "source": [
    "raw.write.parquet(\"hdfs://namenode:9000//user/data/spark_ml_101/ec_web_logs_analysis/data/\")"
   ]
  },
  {
   "cell_type": "code",
   "execution_count": 6,
   "id": "df3147bf-85d5-4bb6-9982-bea71415b695",
   "metadata": {},
   "outputs": [],
   "source": [
    "spark.stop()"
   ]
  },
  {
   "cell_type": "code",
   "execution_count": null,
   "id": "e4aae64f-31bb-41c8-a91d-02a2ae95e49d",
   "metadata": {},
   "outputs": [],
   "source": []
  }
 ],
 "metadata": {
  "kernelspec": {
   "display_name": "Python 3 (ipykernel)",
   "language": "python",
   "name": "python3"
  },
  "language_info": {
   "codemirror_mode": {
    "name": "ipython",
    "version": 3
   },
   "file_extension": ".py",
   "mimetype": "text/x-python",
   "name": "python",
   "nbconvert_exporter": "python",
   "pygments_lexer": "ipython3",
   "version": "3.11.6"
  }
 },
 "nbformat": 4,
 "nbformat_minor": 5
}
